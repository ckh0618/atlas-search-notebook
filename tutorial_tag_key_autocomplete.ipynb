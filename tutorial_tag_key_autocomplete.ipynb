{
 "cells": [
  {
   "cell_type": "code",
   "execution_count": 3,
   "metadata": {},
   "outputs": [],
   "source": [
    "\n",
    "from lib.search_index_manager import SearchIndexManager\n",
    "import os \n",
    "\n",
    "import pymongo\n",
    "\n",
    "\n",
    "from lib.common import MONGODB_URI\n",
    "from lib.common import PROJECT_ID\n",
    "from lib.common import PRIVATE_KEY\n",
    "from lib.common import PUBLIC_KEY\n",
    "from lib.common import CLUSTER_NAME\n",
    "\n",
    "client = pymongo.MongoClient( MONGODB_URI )\n",
    "\n"
   ]
  },
  {
   "cell_type": "code",
   "execution_count": 79,
   "metadata": {},
   "outputs": [
    {
     "name": "stdout",
     "output_type": "stream",
     "text": [
      "{'tags': {'k': 'Name'}}\n",
      "{'tags': {'k': 'Name2'}}\n"
     ]
    }
   ],
   "source": [
    "pipeline = [\n",
    "    {\"$search\": {\n",
    "        \"index\" : \"autocompelete1\",\n",
    "        \"embeddedDocument\": { \n",
    "                    \"path\" : \"tags\", \n",
    "                    \"operator\" : { \n",
    "                    \"autocomplete\" : {\n",
    "                        \"path\" : \"tags.k\" ,\n",
    "                        \"query\" : \"Na\"\n",
    "                    }\n",
    "                    }\n",
    "                }\n",
    "    \n",
    "        }\n",
    "    },\n",
    "    {\"$unwind\" : \"$tags\"},\n",
    "    {\"$match\" : { \"tags.k\" : { \"$regex\" : \"^Na\" }}},\n",
    "    {\"$project\" : \n",
    "     { \"_id\" : 0, \"tags.k\" : 1 }}\n",
    "\n",
    "\n",
    "]\n",
    "# run pipeline\n",
    "result = client['sample_mflix']['tag_example'].aggregate(pipeline)\n",
    "\n",
    "# print results\n",
    "for i in result:\n",
    "    print(i)"
   ]
  }
 ],
 "metadata": {
  "kernelspec": {
   "display_name": "venv",
   "language": "python",
   "name": "python3"
  },
  "language_info": {
   "codemirror_mode": {
    "name": "ipython",
    "version": 3
   },
   "file_extension": ".py",
   "mimetype": "text/x-python",
   "name": "python",
   "nbconvert_exporter": "python",
   "pygments_lexer": "ipython3",
   "version": "3.10.10"
  },
  "orig_nbformat": 4,
  "vscode": {
   "interpreter": {
    "hash": "09ff121029839bd453b7e6f6df875d861f89d32f95568ae41221ebd4330d0c36"
   }
  }
 },
 "nbformat": 4,
 "nbformat_minor": 2
}
