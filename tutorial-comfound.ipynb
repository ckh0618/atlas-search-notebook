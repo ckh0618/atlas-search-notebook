{
 "cells": [
  {
   "cell_type": "code",
   "execution_count": 6,
   "metadata": {},
   "outputs": [],
   "source": [
    "import pymongo\n",
    "\n",
    "from lib.common import MONGODB_URI\n",
    "\n",
    "client = pymongo.MongoClient(MONGODB_URI)\n",
    "# define pipeline\n"
   ]
  },
  {
   "attachments": {},
   "cell_type": "markdown",
   "metadata": {},
   "source": [
    "아래 파이프라인은 여러개의 조건을 검색합니다. \n",
    "\n",
    "* filter : 해당 조건이 True 이어야 하나 Score 는 영향을 미치지 않음 \n",
    "* must   : 해당 조건이 True 이어야 하고 Score 에도 영향을 미침 \n",
    "* should : 매칭이 된다면 Score 가 올라갑니다.  "
   ]
  },
  {
   "cell_type": "code",
   "execution_count": 7,
   "metadata": {},
   "outputs": [
    {
     "name": "stdout",
     "output_type": "stream",
     "text": [
      "{'title': 'Snow in Paradise', 'year': 2014, 'score': 5.0, 'highlights': [{'score': 1.382846713066101, 'path': 'title', 'texts': [{'value': 'Snow', 'type': 'hit'}, {'value': ' in Paradise', 'type': 'text'}]}]}\n",
      "{'title': 'Dead Snow 2: Red vs. Dead', 'year': 2014, 'score': 5.0, 'highlights': [{'score': 1.3924485445022583, 'path': 'title', 'texts': [{'value': 'Dead ', 'type': 'text'}, {'value': 'Snow', 'type': 'hit'}, {'value': ' 2: Red vs. ', 'type': 'text'}]}]}\n",
      "{'title': 'The Snow White Murder Case', 'year': 2014, 'score': 5.0, 'highlights': [{'score': 1.3525336980819702, 'path': 'title', 'texts': [{'value': 'The ', 'type': 'text'}, {'value': 'Snow', 'type': 'hit'}, {'value': ' White Murder Case', 'type': 'text'}]}]}\n",
      "{'title': 'Snow on the Blades', 'year': 2014, 'score': 5.0, 'highlights': [{'score': 1.3766303062438965, 'path': 'title', 'texts': [{'value': 'Snow', 'type': 'hit'}, {'value': ' on the Blades', 'type': 'text'}]}]}\n",
      "{'year': 2013, 'title': 'The Secret Life of Walter Mitty', 'score': 0.0, 'highlights': []}\n",
      "{'title': 'Jurassic World', 'year': 2015, 'score': 0.0, 'highlights': []}\n",
      "{'title': 'Action Jackson', 'year': 2014, 'score': 0.0, 'highlights': []}\n",
      "{'year': 2013, 'title': 'In Secret', 'score': 0.0, 'highlights': []}\n",
      "{'title': 'The Stanford Prison Experiment', 'year': 2015, 'score': 0.0, 'highlights': []}\n",
      "{'year': 2014, 'title': 'The Giver', 'score': 0.0, 'highlights': []}\n"
     ]
    }
   ],
   "source": [
    "\n",
    "\n",
    "# 2013 년부터 2015년에 year 필드 레인지에서 \n",
    "# title 에 snow 가 들어가는 document 를  찾아라 \n",
    "# 매칭이 되면 Score 가 변하는 게 중요 해당 Score 가 constant 인것을 주목 \n",
    "\n",
    "pipeline = [\n",
    "  {'$search': {\n",
    "      'compound': {\n",
    "        'filter': [{'range': {'path': 'year', 'gte': 2013, 'lte': 2015}}],\n",
    "        'should': [{'text': {'query': 'snow', 'path': 'title', 'score': {'constant': {'value': 5}}}}]},\n",
    "      'highlight': {'path': 'title'}}},\n",
    "  {'$limit': 10}, \n",
    "  {'$project': {'_id': 0, 'title': 1, 'year': 1, \n",
    "    'score': {'$meta': 'searchScore'}, \"highlights\": {\"$meta\": \"searchHighlights\"}}}\n",
    "]\n",
    "\n",
    "result = client['sample_mflix']['movies'].aggregate(pipeline)\n",
    "# print results\n",
    "for i in result:\n",
    "    print(i)"
   ]
  },
  {
   "cell_type": "code",
   "execution_count": 8,
   "metadata": {},
   "outputs": [
    {
     "name": "stdout",
     "output_type": "stream",
     "text": [
      "{'title': 'Snow in Paradise', 'year': 2014, 'score': 6.7722930908203125, 'highlights': [{'score': 1.382846713066101, 'path': 'title', 'texts': [{'value': 'Snow', 'type': 'hit'}, {'value': ' in Paradise', 'type': 'text'}]}]}\n",
      "{'title': 'Snow on the Blades', 'year': 2014, 'score': 6.063445568084717, 'highlights': [{'score': 1.3766303062438965, 'path': 'title', 'texts': [{'value': 'Snow', 'type': 'hit'}, {'value': ' on the Blades', 'type': 'text'}]}]}\n",
      "{'title': 'The Snow White Murder Case', 'year': 2014, 'score': 5.509652137756348, 'highlights': [{'score': 1.3525336980819702, 'path': 'title', 'texts': [{'value': 'The ', 'type': 'text'}, {'value': 'Snow', 'type': 'hit'}, {'value': ' White Murder Case', 'type': 'text'}]}]}\n",
      "{'title': 'Dead Snow 2: Red vs. Dead', 'year': 2014, 'score': 5.065053939819336, 'highlights': [{'score': 1.3924485445022583, 'path': 'title', 'texts': [{'value': 'Dead ', 'type': 'text'}, {'value': 'Snow', 'type': 'hit'}, {'value': ' 2: Red vs. ', 'type': 'text'}]}]}\n",
      "{'year': 2013, 'title': 'The Secret Life of Walter Mitty', 'score': 1.0, 'highlights': []}\n",
      "{'title': 'Jurassic World', 'year': 2015, 'score': 1.0, 'highlights': []}\n",
      "{'title': 'Action Jackson', 'year': 2014, 'score': 1.0, 'highlights': []}\n",
      "{'year': 2013, 'title': 'In Secret', 'score': 1.0, 'highlights': []}\n",
      "{'title': 'The Stanford Prison Experiment', 'year': 2015, 'score': 1.0, 'highlights': []}\n",
      "{'year': 2014, 'title': 'The Giver', 'score': 1.0, 'highlights': []}\n"
     ]
    }
   ],
   "source": [
    "# 2013 년부터 2015년에 year 필드 레인지에서 \n",
    "# title 에 snow 가 들어가는 document 를  찾아라 \n",
    "# 매칭이 되면 Score 가 변하는 게 중요 해당 Score 가 boost 인것을 주목 \n",
    "\n",
    "\n",
    "pipeline = [\n",
    "  {'$search': {\n",
    "      'compound': {\n",
    "        'must': [{'range': {'path': 'year', 'gte': 2013, 'lte': 2015}}],\n",
    "        'should': [{'text': {'query': 'snow', 'path': 'title', 'score': {'boost': {'value': 2}}}}]}, \n",
    "      'highlight': {'path': 'title'}}},\n",
    "  {'$limit': 10}, \n",
    "  {'$project': {'_id': 0, 'title': 1, 'year': 1, 'score': {'$meta': 'searchScore'}, \"highlights\": {\"$meta\": \"searchHighlights\"}}}\n",
    "]\n",
    "# run pipeline\n",
    "result = client['sample_mflix']['movies'].aggregate(pipeline)\n",
    "# print results\n",
    "for i in result:\n",
    "    print(i)"
   ]
  },
  {
   "cell_type": "code",
   "execution_count": 10,
   "metadata": {},
   "outputs": [
    {
     "name": "stdout",
     "output_type": "stream",
     "text": [
      "{'genres': ['Comedy', 'Horror'], 'title': 'Dead Snow', 'year': 2009, 'score': 21.872983932495117}\n",
      "{'year': 2000, 'genres': ['Adventure', 'Comedy', 'Family'], 'title': 'Snow Day', 'score': 21.043487548828125}\n",
      "{'genres': ['Adventure', 'Comedy', 'Family'], 'title': 'Snow Dogs', 'year': 2002, 'score': 21.043487548828125}\n",
      "{'year': 1999, 'genres': ['Comedy', 'Romance'], 'title': 'Let It Snow', 'score': 19.523927688598633}\n",
      "{'genres': ['Action', 'Comedy', 'Horror'], 'title': 'Dead Snow 2: Red vs. Dead', 'year': 2014, 'score': 17.426334381103516}\n",
      "{'genres': ['Comedy', 'Drama'], 'title': 'Snow White and Russian Red', 'year': 2009, 'score': 16.367326736450195}\n",
      "{'genres': ['Comedy', 'Drama', 'Romance'], 'title': 'The Tiger and the Snow', 'year': 2005, 'score': 15.537829399108887}\n",
      "{'genres': ['Adventure', 'Comedy', 'Family'], 'title': 'Snow White and the Three Stooges', 'year': 1961, 'score': 14.4263334274292}\n"
     ]
    }
   ],
   "source": [
    "## 각각의 필드별로 가중치를 다르게 준 예제 \n",
    "\n",
    "result = client['sample_mflix']['movies'].aggregate([\n",
    "    {\n",
    "        '$search': {\n",
    "            'index': 'default',\n",
    "            'compound': {\n",
    "                'must': [\n",
    "                    {\n",
    "                        'text': {\n",
    "                            'path': 'genres',\n",
    "                            'query': 'comedy',\n",
    "                            'score': {\n",
    "                                'boost': {\n",
    "                                    'value': 9\n",
    "                                }\n",
    "                            }\n",
    "                        }\n",
    "                    }, {\n",
    "                        'text': {\n",
    "                            'path': 'title',\n",
    "                            'query': 'snow',\n",
    "                            'score': {\n",
    "                                'boost': {\n",
    "                                    'value': 5\n",
    "                                }\n",
    "                            }\n",
    "                        }\n",
    "                    }\n",
    "                ],\n",
    "                'should': [\n",
    "                    {\n",
    "                        'range': {\n",
    "                            'path': 'year',\n",
    "                            'gte': 2013,\n",
    "                            'lte': 2015,\n",
    "                            'score': {\n",
    "                                'boost': {\n",
    "                                    'value': 3\n",
    "                                }\n",
    "                            }\n",
    "                        }\n",
    "                    }\n",
    "                ]\n",
    "            }\n",
    "        }\n",
    "    }, {\n",
    "        '$limit': 10\n",
    "    }, {\n",
    "        '$project': {\n",
    "            '_id': 0,\n",
    "            'title': 1,\n",
    "            'year': 1,\n",
    "            'genres': 1,\n",
    "            'score': {\n",
    "                '$meta': 'searchScore'\n",
    "            }\n",
    "        }\n",
    "    }\n",
    "])\n",
    "for i in result:\n",
    "    print(i)"
   ]
  },
  {
   "cell_type": "code",
   "execution_count": 4,
   "metadata": {},
   "outputs": [
    {
     "name": "stdout",
     "output_type": "stream",
     "text": [
      "{'title': 'The Snow White Murder Case', 'year': 2014, 'score': 10.454826354980469, 'highlights': [{'score': 1.3525336980819702, 'path': 'title', 'texts': [{'value': 'The ', 'type': 'text'}, {'value': 'Snow', 'type': 'hit'}, {'value': ' White Murder Case', 'type': 'text'}]}]}\n",
      "{'title': 'Snow on the Blades', 'year': 2014, 'score': 10.3317232131958, 'highlights': [{'score': 1.3766303062438965, 'path': 'title', 'texts': [{'value': 'Snow', 'type': 'hit'}, {'value': ' on the Blades', 'type': 'text'}]}]}\n",
      "{'title': 'Dead Snow 2: Red vs. Dead', 'year': 2014, 'score': 10.032526969909668, 'highlights': [{'score': 1.3924485445022583, 'path': 'title', 'texts': [{'value': 'Dead ', 'type': 'text'}, {'value': 'Snow', 'type': 'hit'}, {'value': ' 2: Red vs. ', 'type': 'text'}]}]}\n",
      "{'title': 'Snow in Paradise', 'year': 2014, 'score': 8.386146545410156, 'highlights': [{'score': 1.382846713066101, 'path': 'title', 'texts': [{'value': 'Snow', 'type': 'hit'}, {'value': ' in Paradise', 'type': 'text'}]}]}\n",
      "{'year': 2013, 'title': 'The Secret Life of Walter Mitty', 'score': 1.0, 'highlights': []}\n",
      "{'title': 'Jurassic World', 'year': 2015, 'score': 1.0, 'highlights': []}\n",
      "{'title': 'Action Jackson', 'year': 2014, 'score': 1.0, 'highlights': []}\n",
      "{'year': 2013, 'title': 'In Secret', 'score': 1.0, 'highlights': []}\n",
      "{'title': 'The Stanford Prison Experiment', 'year': 2015, 'score': 1.0, 'highlights': []}\n",
      "{'year': 2014, 'title': 'The Giver', 'score': 1.0, 'highlights': []}\n"
     ]
    }
   ],
   "source": [
    "## 이건 사용자 함수를 등록해서 처리한 사례 \n",
    "\n",
    "pipeline = [\n",
    "  {'$search': {\n",
    "      'compound': {\n",
    "        'must': [{'range': {'path': 'year', 'gte': 2013, 'lte': 2015}}],\n",
    "        'should': [{'text': {'query': 'snow', 'path': 'title', \n",
    "                    'score': {'function': {\n",
    "                        'add': [{'path': {'value': 'imdb.rating','undefined': 2}}, {'score': 'relevance'}]}}}}]},\n",
    "      'highlight': {'path': 'title'}}},\n",
    "  {'$limit': 10}, \n",
    "  {'$project': {'_id': 0, 'title': 1, 'year': 1, 'score': {'$meta': 'searchScore'}, \"highlights\": {\"$meta\": \"searchHighlights\"}}}\n",
    "]\n",
    "# run pipeline\n",
    "result = client['sample_mflix']['movies'].aggregate(pipeline)\n",
    "# print results\n",
    "for i in result:\n",
    "    print(i)\n"
   ]
  }
 ],
 "metadata": {
  "kernelspec": {
   "display_name": "venv",
   "language": "python",
   "name": "python3"
  },
  "language_info": {
   "codemirror_mode": {
    "name": "ipython",
    "version": 3
   },
   "file_extension": ".py",
   "mimetype": "text/x-python",
   "name": "python",
   "nbconvert_exporter": "python",
   "pygments_lexer": "ipython3",
   "version": "3.10.10"
  },
  "orig_nbformat": 4,
  "vscode": {
   "interpreter": {
    "hash": "09ff121029839bd453b7e6f6df875d861f89d32f95568ae41221ebd4330d0c36"
   }
  }
 },
 "nbformat": 4,
 "nbformat_minor": 2
}
