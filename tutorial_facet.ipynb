{
 "cells": [
  {
   "cell_type": "code",
   "execution_count": 2,
   "metadata": {},
   "outputs": [],
   "source": [
    "from lib.search_index_manager import SearchIndexManager\n",
    "import os \n",
    "\n",
    "import pymongo, datetime\n",
    "\n",
    "\n",
    "from lib.common import MONGODB_URI\n",
    "from lib.common import PROJECT_ID\n",
    "from lib.common import PRIVATE_KEY\n",
    "from lib.common import PUBLIC_KEY\n",
    "from lib.common import CLUSTER_NAME\n",
    "\n",
    "client = pymongo.MongoClient( MONGODB_URI )"
   ]
  },
  {
   "cell_type": "code",
   "execution_count": 3,
   "metadata": {},
   "outputs": [
    {
     "ename": "OperationFailure",
     "evalue": "PlanExecutor error during aggregation :: caused by :: Remote error from mongot :: caused by :: Cannot facet on field \"genres\" because it was not indexed as a \"stringFacet\" field., full error: {'ok': 0.0, 'errmsg': 'PlanExecutor error during aggregation :: caused by :: Remote error from mongot :: caused by :: Cannot facet on field \"genres\" because it was not indexed as a \"stringFacet\" field.', 'code': 8, 'codeName': 'UnknownError', '$clusterTime': {'clusterTime': Timestamp(1677147170, 1), 'signature': {'hash': b'\\xce\\xfb\\xdb2\\x06.\\xfd\\xcc\\x1c\\xc1\\xd4J\\x81\\xc0\\xd2\\xea\\x9d\\xa4\\x89Y', 'keyId': 7203213746611683332}}, 'operationTime': Timestamp(1677147170, 1)}",
     "output_type": "error",
     "traceback": [
      "\u001b[0;31m---------------------------------------------------------------------------\u001b[0m",
      "\u001b[0;31mOperationFailure\u001b[0m                          Traceback (most recent call last)",
      "\u001b[1;32m/Users/han/workspace/python/atlas-search/tutorial_facet.ipynb 셀 2\u001b[0m in \u001b[0;36m<cell line: 11>\u001b[0;34m()\u001b[0m\n\u001b[1;32m      <a href='vscode-notebook-cell:/Users/han/workspace/python/atlas-search/tutorial_facet.ipynb#W1sZmlsZQ%3D%3D?line=0'>1</a>\u001b[0m pipeline \u001b[39m=\u001b[39m [{\u001b[39m\"\u001b[39m\u001b[39m$searchMeta\u001b[39m\u001b[39m\"\u001b[39m: { \n\u001b[1;32m      <a href='vscode-notebook-cell:/Users/han/workspace/python/atlas-search/tutorial_facet.ipynb#W1sZmlsZQ%3D%3D?line=1'>2</a>\u001b[0m     \u001b[39m\"\u001b[39m\u001b[39mfacet\u001b[39m\u001b[39m\"\u001b[39m: {\n\u001b[1;32m      <a href='vscode-notebook-cell:/Users/han/workspace/python/atlas-search/tutorial_facet.ipynb#W1sZmlsZQ%3D%3D?line=2'>3</a>\u001b[0m         \u001b[39m\"\u001b[39m\u001b[39moperator\u001b[39m\u001b[39m\"\u001b[39m: {\n\u001b[0;32m   (...)\u001b[0m\n\u001b[1;32m      <a href='vscode-notebook-cell:/Users/han/workspace/python/atlas-search/tutorial_facet.ipynb#W1sZmlsZQ%3D%3D?line=7'>8</a>\u001b[0m           \u001b[39m\"\u001b[39m\u001b[39myearFacet\u001b[39m\u001b[39m\"\u001b[39m : {\u001b[39m\"\u001b[39m\u001b[39mtype\u001b[39m\u001b[39m\"\u001b[39m : \u001b[39m\"\u001b[39m\u001b[39mnumber\u001b[39m\u001b[39m\"\u001b[39m, \u001b[39m\"\u001b[39m\u001b[39mpath\u001b[39m\u001b[39m\"\u001b[39m : \u001b[39m\"\u001b[39m\u001b[39myear\u001b[39m\u001b[39m\"\u001b[39m, \u001b[39m\"\u001b[39m\u001b[39mboundaries\u001b[39m\u001b[39m\"\u001b[39m : [\u001b[39m1910\u001b[39m,\u001b[39m1920\u001b[39m,\u001b[39m1930\u001b[39m,\u001b[39m1940\u001b[39m]}\n\u001b[1;32m      <a href='vscode-notebook-cell:/Users/han/workspace/python/atlas-search/tutorial_facet.ipynb#W1sZmlsZQ%3D%3D?line=8'>9</a>\u001b[0m         }}}}]\n\u001b[1;32m     <a href='vscode-notebook-cell:/Users/han/workspace/python/atlas-search/tutorial_facet.ipynb#W1sZmlsZQ%3D%3D?line=9'>10</a>\u001b[0m \u001b[39m# run pipeline\u001b[39;00m\n\u001b[0;32m---> <a href='vscode-notebook-cell:/Users/han/workspace/python/atlas-search/tutorial_facet.ipynb#W1sZmlsZQ%3D%3D?line=10'>11</a>\u001b[0m result \u001b[39m=\u001b[39m client[\u001b[39m\"\u001b[39;49m\u001b[39msample_mflix\u001b[39;49m\u001b[39m\"\u001b[39;49m][\u001b[39m\"\u001b[39;49m\u001b[39mmovies\u001b[39;49m\u001b[39m\"\u001b[39;49m]\u001b[39m.\u001b[39;49maggregate(pipeline)\n\u001b[1;32m     <a href='vscode-notebook-cell:/Users/han/workspace/python/atlas-search/tutorial_facet.ipynb#W1sZmlsZQ%3D%3D?line=11'>12</a>\u001b[0m \u001b[39m# print results\u001b[39;00m\n\u001b[1;32m     <a href='vscode-notebook-cell:/Users/han/workspace/python/atlas-search/tutorial_facet.ipynb#W1sZmlsZQ%3D%3D?line=12'>13</a>\u001b[0m \u001b[39mfor\u001b[39;00m i \u001b[39min\u001b[39;00m result:\n",
      "File \u001b[0;32m~/workspace/python/venv/lib/python3.10/site-packages/pymongo/collection.py:2436\u001b[0m, in \u001b[0;36mCollection.aggregate\u001b[0;34m(self, pipeline, session, let, comment, **kwargs)\u001b[0m\n\u001b[1;32m   2358\u001b[0m \u001b[39m\"\"\"Perform an aggregation using the aggregation framework on this\u001b[39;00m\n\u001b[1;32m   2359\u001b[0m \u001b[39mcollection.\u001b[39;00m\n\u001b[1;32m   2360\u001b[0m \n\u001b[0;32m   (...)\u001b[0m\n\u001b[1;32m   2432\u001b[0m \u001b[39m    https://mongodb.com/docs/manual/reference/command/aggregate\u001b[39;00m\n\u001b[1;32m   2433\u001b[0m \u001b[39m\"\"\"\u001b[39;00m\n\u001b[1;32m   2435\u001b[0m \u001b[39mwith\u001b[39;00m \u001b[39mself\u001b[39m\u001b[39m.\u001b[39m__database\u001b[39m.\u001b[39mclient\u001b[39m.\u001b[39m_tmp_session(session, close\u001b[39m=\u001b[39m\u001b[39mFalse\u001b[39;00m) \u001b[39mas\u001b[39;00m s:\n\u001b[0;32m-> 2436\u001b[0m     \u001b[39mreturn\u001b[39;00m \u001b[39mself\u001b[39;49m\u001b[39m.\u001b[39;49m_aggregate(\n\u001b[1;32m   2437\u001b[0m         _CollectionAggregationCommand,\n\u001b[1;32m   2438\u001b[0m         pipeline,\n\u001b[1;32m   2439\u001b[0m         CommandCursor,\n\u001b[1;32m   2440\u001b[0m         session\u001b[39m=\u001b[39;49ms,\n\u001b[1;32m   2441\u001b[0m         explicit_session\u001b[39m=\u001b[39;49msession \u001b[39mis\u001b[39;49;00m \u001b[39mnot\u001b[39;49;00m \u001b[39mNone\u001b[39;49;00m,\n\u001b[1;32m   2442\u001b[0m         let\u001b[39m=\u001b[39;49mlet,\n\u001b[1;32m   2443\u001b[0m         comment\u001b[39m=\u001b[39;49mcomment,\n\u001b[1;32m   2444\u001b[0m         \u001b[39m*\u001b[39;49m\u001b[39m*\u001b[39;49mkwargs,\n\u001b[1;32m   2445\u001b[0m     )\n",
      "File \u001b[0;32m~/workspace/python/venv/lib/python3.10/site-packages/pymongo/_csot.py:105\u001b[0m, in \u001b[0;36mapply.<locals>.csot_wrapper\u001b[0;34m(self, *args, **kwargs)\u001b[0m\n\u001b[1;32m    103\u001b[0m         \u001b[39mwith\u001b[39;00m _TimeoutContext(timeout):\n\u001b[1;32m    104\u001b[0m             \u001b[39mreturn\u001b[39;00m func(\u001b[39mself\u001b[39m, \u001b[39m*\u001b[39margs, \u001b[39m*\u001b[39m\u001b[39m*\u001b[39mkwargs)\n\u001b[0;32m--> 105\u001b[0m \u001b[39mreturn\u001b[39;00m func(\u001b[39mself\u001b[39;49m, \u001b[39m*\u001b[39;49margs, \u001b[39m*\u001b[39;49m\u001b[39m*\u001b[39;49mkwargs)\n",
      "File \u001b[0;32m~/workspace/python/venv/lib/python3.10/site-packages/pymongo/collection.py:2343\u001b[0m, in \u001b[0;36mCollection._aggregate\u001b[0;34m(self, aggregation_command, pipeline, cursor_class, session, explicit_session, let, comment, **kwargs)\u001b[0m\n\u001b[1;32m   2332\u001b[0m     kwargs[\u001b[39m\"\u001b[39m\u001b[39mcomment\u001b[39m\u001b[39m\"\u001b[39m] \u001b[39m=\u001b[39m comment\n\u001b[1;32m   2333\u001b[0m cmd \u001b[39m=\u001b[39m aggregation_command(\n\u001b[1;32m   2334\u001b[0m     \u001b[39mself\u001b[39m,\n\u001b[1;32m   2335\u001b[0m     cursor_class,\n\u001b[0;32m   (...)\u001b[0m\n\u001b[1;32m   2340\u001b[0m     user_fields\u001b[39m=\u001b[39m{\u001b[39m\"\u001b[39m\u001b[39mcursor\u001b[39m\u001b[39m\"\u001b[39m: {\u001b[39m\"\u001b[39m\u001b[39mfirstBatch\u001b[39m\u001b[39m\"\u001b[39m: \u001b[39m1\u001b[39m}},\n\u001b[1;32m   2341\u001b[0m )\n\u001b[0;32m-> 2343\u001b[0m \u001b[39mreturn\u001b[39;00m \u001b[39mself\u001b[39;49m\u001b[39m.\u001b[39;49m__database\u001b[39m.\u001b[39;49mclient\u001b[39m.\u001b[39;49m_retryable_read(\n\u001b[1;32m   2344\u001b[0m     cmd\u001b[39m.\u001b[39;49mget_cursor,\n\u001b[1;32m   2345\u001b[0m     cmd\u001b[39m.\u001b[39;49mget_read_preference(session),\n\u001b[1;32m   2346\u001b[0m     session,\n\u001b[1;32m   2347\u001b[0m     retryable\u001b[39m=\u001b[39;49m\u001b[39mnot\u001b[39;49;00m cmd\u001b[39m.\u001b[39;49m_performs_write,\n\u001b[1;32m   2348\u001b[0m )\n",
      "File \u001b[0;32m~/workspace/python/venv/lib/python3.10/site-packages/pymongo/_csot.py:105\u001b[0m, in \u001b[0;36mapply.<locals>.csot_wrapper\u001b[0;34m(self, *args, **kwargs)\u001b[0m\n\u001b[1;32m    103\u001b[0m         \u001b[39mwith\u001b[39;00m _TimeoutContext(timeout):\n\u001b[1;32m    104\u001b[0m             \u001b[39mreturn\u001b[39;00m func(\u001b[39mself\u001b[39m, \u001b[39m*\u001b[39margs, \u001b[39m*\u001b[39m\u001b[39m*\u001b[39mkwargs)\n\u001b[0;32m--> 105\u001b[0m \u001b[39mreturn\u001b[39;00m func(\u001b[39mself\u001b[39;49m, \u001b[39m*\u001b[39;49margs, \u001b[39m*\u001b[39;49m\u001b[39m*\u001b[39;49mkwargs)\n",
      "File \u001b[0;32m~/workspace/python/venv/lib/python3.10/site-packages/pymongo/mongo_client.py:1448\u001b[0m, in \u001b[0;36mMongoClient._retryable_read\u001b[0;34m(self, func, read_pref, session, address, retryable)\u001b[0m\n\u001b[1;32m   1446\u001b[0m             \u001b[39massert\u001b[39;00m last_error \u001b[39mis\u001b[39;00m \u001b[39mnot\u001b[39;00m \u001b[39mNone\u001b[39;00m\n\u001b[1;32m   1447\u001b[0m             \u001b[39mraise\u001b[39;00m last_error\n\u001b[0;32m-> 1448\u001b[0m         \u001b[39mreturn\u001b[39;00m func(session, server, sock_info, read_pref)\n\u001b[1;32m   1449\u001b[0m \u001b[39mexcept\u001b[39;00m ServerSelectionTimeoutError:\n\u001b[1;32m   1450\u001b[0m     \u001b[39mif\u001b[39;00m retrying:\n\u001b[1;32m   1451\u001b[0m         \u001b[39m# The application may think the write was never attempted\u001b[39;00m\n\u001b[1;32m   1452\u001b[0m         \u001b[39m# if we raise ServerSelectionTimeoutError on the retry\u001b[39;00m\n\u001b[1;32m   1453\u001b[0m         \u001b[39m# attempt. Raise the original exception instead.\u001b[39;00m\n",
      "File \u001b[0;32m~/workspace/python/venv/lib/python3.10/site-packages/pymongo/aggregation.py:142\u001b[0m, in \u001b[0;36m_AggregationCommand.get_cursor\u001b[0;34m(self, session, server, sock_info, read_preference)\u001b[0m\n\u001b[1;32m    139\u001b[0m     write_concern \u001b[39m=\u001b[39m \u001b[39mNone\u001b[39;00m\n\u001b[1;32m    141\u001b[0m \u001b[39m# Run command.\u001b[39;00m\n\u001b[0;32m--> 142\u001b[0m result \u001b[39m=\u001b[39m sock_info\u001b[39m.\u001b[39;49mcommand(\n\u001b[1;32m    143\u001b[0m     \u001b[39mself\u001b[39;49m\u001b[39m.\u001b[39;49m_database\u001b[39m.\u001b[39;49mname,\n\u001b[1;32m    144\u001b[0m     cmd,\n\u001b[1;32m    145\u001b[0m     read_preference,\n\u001b[1;32m    146\u001b[0m     \u001b[39mself\u001b[39;49m\u001b[39m.\u001b[39;49m_target\u001b[39m.\u001b[39;49mcodec_options,\n\u001b[1;32m    147\u001b[0m     parse_write_concern_error\u001b[39m=\u001b[39;49m\u001b[39mTrue\u001b[39;49;00m,\n\u001b[1;32m    148\u001b[0m     read_concern\u001b[39m=\u001b[39;49mread_concern,\n\u001b[1;32m    149\u001b[0m     write_concern\u001b[39m=\u001b[39;49mwrite_concern,\n\u001b[1;32m    150\u001b[0m     collation\u001b[39m=\u001b[39;49m\u001b[39mself\u001b[39;49m\u001b[39m.\u001b[39;49m_collation,\n\u001b[1;32m    151\u001b[0m     session\u001b[39m=\u001b[39;49msession,\n\u001b[1;32m    152\u001b[0m     client\u001b[39m=\u001b[39;49m\u001b[39mself\u001b[39;49m\u001b[39m.\u001b[39;49m_database\u001b[39m.\u001b[39;49mclient,\n\u001b[1;32m    153\u001b[0m     user_fields\u001b[39m=\u001b[39;49m\u001b[39mself\u001b[39;49m\u001b[39m.\u001b[39;49m_user_fields,\n\u001b[1;32m    154\u001b[0m )\n\u001b[1;32m    156\u001b[0m \u001b[39mif\u001b[39;00m \u001b[39mself\u001b[39m\u001b[39m.\u001b[39m_result_processor:\n\u001b[1;32m    157\u001b[0m     \u001b[39mself\u001b[39m\u001b[39m.\u001b[39m_result_processor(result, sock_info)\n",
      "File \u001b[0;32m~/workspace/python/venv/lib/python3.10/site-packages/pymongo/pool.py:767\u001b[0m, in \u001b[0;36mSocketInfo.command\u001b[0;34m(self, dbname, spec, read_preference, codec_options, check, allowable_errors, read_concern, write_concern, parse_write_concern_error, collation, session, client, retryable_write, publish_events, user_fields, exhaust_allowed)\u001b[0m\n\u001b[1;32m    765\u001b[0m     \u001b[39mself\u001b[39m\u001b[39m.\u001b[39m_raise_if_not_writable(unacknowledged)\n\u001b[1;32m    766\u001b[0m \u001b[39mtry\u001b[39;00m:\n\u001b[0;32m--> 767\u001b[0m     \u001b[39mreturn\u001b[39;00m command(\n\u001b[1;32m    768\u001b[0m         \u001b[39mself\u001b[39;49m,\n\u001b[1;32m    769\u001b[0m         dbname,\n\u001b[1;32m    770\u001b[0m         spec,\n\u001b[1;32m    771\u001b[0m         \u001b[39mself\u001b[39;49m\u001b[39m.\u001b[39;49mis_mongos,\n\u001b[1;32m    772\u001b[0m         read_preference,\n\u001b[1;32m    773\u001b[0m         codec_options,\n\u001b[1;32m    774\u001b[0m         session,\n\u001b[1;32m    775\u001b[0m         client,\n\u001b[1;32m    776\u001b[0m         check,\n\u001b[1;32m    777\u001b[0m         allowable_errors,\n\u001b[1;32m    778\u001b[0m         \u001b[39mself\u001b[39;49m\u001b[39m.\u001b[39;49maddress,\n\u001b[1;32m    779\u001b[0m         listeners,\n\u001b[1;32m    780\u001b[0m         \u001b[39mself\u001b[39;49m\u001b[39m.\u001b[39;49mmax_bson_size,\n\u001b[1;32m    781\u001b[0m         read_concern,\n\u001b[1;32m    782\u001b[0m         parse_write_concern_error\u001b[39m=\u001b[39;49mparse_write_concern_error,\n\u001b[1;32m    783\u001b[0m         collation\u001b[39m=\u001b[39;49mcollation,\n\u001b[1;32m    784\u001b[0m         compression_ctx\u001b[39m=\u001b[39;49m\u001b[39mself\u001b[39;49m\u001b[39m.\u001b[39;49mcompression_context,\n\u001b[1;32m    785\u001b[0m         use_op_msg\u001b[39m=\u001b[39;49m\u001b[39mself\u001b[39;49m\u001b[39m.\u001b[39;49mop_msg_enabled,\n\u001b[1;32m    786\u001b[0m         unacknowledged\u001b[39m=\u001b[39;49munacknowledged,\n\u001b[1;32m    787\u001b[0m         user_fields\u001b[39m=\u001b[39;49muser_fields,\n\u001b[1;32m    788\u001b[0m         exhaust_allowed\u001b[39m=\u001b[39;49mexhaust_allowed,\n\u001b[1;32m    789\u001b[0m         write_concern\u001b[39m=\u001b[39;49mwrite_concern,\n\u001b[1;32m    790\u001b[0m     )\n\u001b[1;32m    791\u001b[0m \u001b[39mexcept\u001b[39;00m (OperationFailure, NotPrimaryError):\n\u001b[1;32m    792\u001b[0m     \u001b[39mraise\u001b[39;00m\n",
      "File \u001b[0;32m~/workspace/python/venv/lib/python3.10/site-packages/pymongo/network.py:166\u001b[0m, in \u001b[0;36mcommand\u001b[0;34m(sock_info, dbname, spec, is_mongos, read_preference, codec_options, session, client, check, allowable_errors, address, listeners, max_bson_size, read_concern, parse_write_concern_error, collation, compression_ctx, use_op_msg, unacknowledged, user_fields, exhaust_allowed, write_concern)\u001b[0m\n\u001b[1;32m    164\u001b[0m             client\u001b[39m.\u001b[39m_process_response(response_doc, session)\n\u001b[1;32m    165\u001b[0m         \u001b[39mif\u001b[39;00m check:\n\u001b[0;32m--> 166\u001b[0m             helpers\u001b[39m.\u001b[39;49m_check_command_response(\n\u001b[1;32m    167\u001b[0m                 response_doc,\n\u001b[1;32m    168\u001b[0m                 sock_info\u001b[39m.\u001b[39;49mmax_wire_version,\n\u001b[1;32m    169\u001b[0m                 allowable_errors,\n\u001b[1;32m    170\u001b[0m                 parse_write_concern_error\u001b[39m=\u001b[39;49mparse_write_concern_error,\n\u001b[1;32m    171\u001b[0m             )\n\u001b[1;32m    172\u001b[0m \u001b[39mexcept\u001b[39;00m \u001b[39mException\u001b[39;00m \u001b[39mas\u001b[39;00m exc:\n\u001b[1;32m    173\u001b[0m     \u001b[39mif\u001b[39;00m publish:\n",
      "File \u001b[0;32m~/workspace/python/venv/lib/python3.10/site-packages/pymongo/helpers.py:181\u001b[0m, in \u001b[0;36m_check_command_response\u001b[0;34m(response, max_wire_version, allowable_errors, parse_write_concern_error)\u001b[0m\n\u001b[1;32m    178\u001b[0m \u001b[39melif\u001b[39;00m code \u001b[39m==\u001b[39m \u001b[39m43\u001b[39m:\n\u001b[1;32m    179\u001b[0m     \u001b[39mraise\u001b[39;00m CursorNotFound(errmsg, code, response, max_wire_version)\n\u001b[0;32m--> 181\u001b[0m \u001b[39mraise\u001b[39;00m OperationFailure(errmsg, code, response, max_wire_version)\n",
      "\u001b[0;31mOperationFailure\u001b[0m: PlanExecutor error during aggregation :: caused by :: Remote error from mongot :: caused by :: Cannot facet on field \"genres\" because it was not indexed as a \"stringFacet\" field., full error: {'ok': 0.0, 'errmsg': 'PlanExecutor error during aggregation :: caused by :: Remote error from mongot :: caused by :: Cannot facet on field \"genres\" because it was not indexed as a \"stringFacet\" field.', 'code': 8, 'codeName': 'UnknownError', '$clusterTime': {'clusterTime': Timestamp(1677147170, 1), 'signature': {'hash': b'\\xce\\xfb\\xdb2\\x06.\\xfd\\xcc\\x1c\\xc1\\xd4J\\x81\\xc0\\xd2\\xea\\x9d\\xa4\\x89Y', 'keyId': 7203213746611683332}}, 'operationTime': Timestamp(1677147170, 1)}"
     ]
    }
   ],
   "source": [
    "pipeline = [\n",
    "    {\"$search\": { \n",
    "        \"index\": \"facetindex\"\n",
    "    }}\n",
    "    {\"$searchMeta\": { \n",
    "    \"facet\": {\n",
    "        \"operator\": {\n",
    "          \"near\": {\"path\": \"released\", \"origin\": datetime.datetime(1921, 11, 1, 0, 0, 0, 0), \"pivot\": 7776000000}\n",
    "        },\n",
    "        \"facets\": {\n",
    "          \"genresFacet\": {\"type\": \"string\", \"path\": \"genres\"},\n",
    "          \"yearFacet\" : {\"type\" : \"number\", \"path\" : \"year\", \"boundaries\" : [1910,1920,1930,1940]}\n",
    "        }}}}]\n",
    "# run pipeline\n",
    "result = client[\"sample_mflix\"][\"movies\"].aggregate(pipeline)\n",
    "# print results\n",
    "for i in result:\n",
    "    print(i)"
   ]
  }
 ],
 "metadata": {
  "kernelspec": {
   "display_name": "venv",
   "language": "python",
   "name": "python3"
  },
  "language_info": {
   "codemirror_mode": {
    "name": "ipython",
    "version": 3
   },
   "file_extension": ".py",
   "mimetype": "text/x-python",
   "name": "python",
   "nbconvert_exporter": "python",
   "pygments_lexer": "ipython3",
   "version": "3.10.10"
  },
  "orig_nbformat": 4,
  "vscode": {
   "interpreter": {
    "hash": "09ff121029839bd453b7e6f6df875d861f89d32f95568ae41221ebd4330d0c36"
   }
  }
 },
 "nbformat": 4,
 "nbformat_minor": 2
}
