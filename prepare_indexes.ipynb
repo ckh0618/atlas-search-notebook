{
 "cells": [
  {
   "cell_type": "code",
   "execution_count": 13,
   "metadata": {},
   "outputs": [],
   "source": [
    "\n",
    "from lib.search_index_manager import SearchIndexManager\n",
    "\n",
    "from lib.common import MONGODB_URI\n",
    "from lib.common import PROJECT_ID\n",
    "from lib.common import PRIVATE_KEY\n",
    "from lib.common import PUBLIC_KEY\n",
    "from lib.common import CLUSTER_NAME\n",
    "\n",
    "import pymongo\n",
    "\n",
    "m = SearchIndexManager ( PUBLIC_KEY, PRIVATE_KEY, PROJECT_ID, CLUSTER_NAME)\n",
    "client = pymongo.MongoClient( MONGODB_URI )"
   ]
  },
  {
   "cell_type": "code",
   "execution_count": 6,
   "metadata": {},
   "outputs": [],
   "source": [
    "## dynamic Index Creation "
   ]
  },
  {
   "cell_type": "code",
   "execution_count": 7,
   "metadata": {},
   "outputs": [
    {
     "data": {
      "text/plain": [
       "400"
      ]
     },
     "execution_count": 7,
     "metadata": {},
     "output_type": "execute_result"
    }
   ],
   "source": [
    "\n",
    "\n",
    "## index Description \n",
    "\n",
    "#     \"collectionName\": \"restaurants\",\n",
    "#     \"database\": \"sample_restaurants\",\n",
    "#     \"mappings\": {\"dynamic\": True},\n",
    "#     \"name\": \"defau\n",
    "\n",
    "indexDescriptor = { \n",
    "    \"collectionName\" : \"movies\",\n",
    "    \"database\" : \"sample_mflix\",\n",
    "    \"mappings\" : { \"dynamic\" : True }, \n",
    "    \"name\" : \"default\"\n",
    "}\n",
    "\n",
    "res = m.create_index( indexDescriptor )\n",
    "\n",
    "res"
   ]
  },
  {
   "cell_type": "code",
   "execution_count": 8,
   "metadata": {},
   "outputs": [
    {
     "data": {
      "text/plain": [
       "[{'collectionName': 'movies',\n",
       "  'database': 'sample_mflix',\n",
       "  'indexID': '63f729f1c7a22d523fbbd5eb',\n",
       "  'mappings': {'dynamic': True},\n",
       "  'name': 'default',\n",
       "  'status': 'STEADY',\n",
       "  'synonyms': []},\n",
       " {'collectionName': 'movies',\n",
       "  'database': 'sample_mflix',\n",
       "  'indexID': '63f72b595ecb28071122c228',\n",
       "  'mappings': {'dynamic': False,\n",
       "   'fields': {'plot': {'foldDiacritics': True,\n",
       "     'maxGrams': 15,\n",
       "     'minGrams': 2,\n",
       "     'tokenization': 'edgeGram',\n",
       "     'type': 'autocomplete'},\n",
       "    'title': {'foldDiacritics': True,\n",
       "     'maxGrams': 15,\n",
       "     'minGrams': 2,\n",
       "     'tokenization': 'edgeGram',\n",
       "     'type': 'autocomplete'}}},\n",
       "  'name': 'autocompelete1',\n",
       "  'status': 'STEADY',\n",
       "  'synonyms': []}]"
      ]
     },
     "execution_count": 8,
     "metadata": {},
     "output_type": "execute_result"
    }
   ],
   "source": [
    "m.get_indexes(\"sample_mflix\", \"movies\")"
   ]
  },
  {
   "attachments": {},
   "cell_type": "markdown",
   "metadata": {},
   "source": [
    "## Auto complete index creation "
   ]
  },
  {
   "cell_type": "code",
   "execution_count": 9,
   "metadata": {},
   "outputs": [],
   "source": [
    "indexDesc={\n",
    "  \"name\": \"autocompelete1\",\n",
    "  \"collectionName\" : \"movies\",\n",
    "  \"database\" : \"sample_mflix\",\n",
    "  \"mappings\": {\n",
    "    \"dynamic\": False,\n",
    "    \"fields\": {\n",
    "      \"title\": {\n",
    "        \"type\": \"autocomplete\",\n",
    "        \"tokenization\": \"edgeGram\",\n",
    "        \"foldDiacritics\": True,\n",
    "        \"minGrams\": 2,\n",
    "        \"maxGrams\": 15\n",
    "      },\n",
    "      \"plot\": {\n",
    "        \"type\": \"autocomplete\",\n",
    "        \"tokenization\": \"edgeGram\",\n",
    "        \"foldDiacritics\": True,\n",
    "        \"minGrams\": 2,\n",
    "        \"maxGrams\": 15\n",
    "      }\n",
    "    }\n",
    "  }\n",
    "}\n",
    "\n",
    "\n",
    "res = m.create_index( indexDesc )"
   ]
  },
  {
   "cell_type": "code",
   "execution_count": 10,
   "metadata": {},
   "outputs": [
    {
     "data": {
      "text/plain": [
       "[{'collectionName': 'movies',\n",
       "  'database': 'sample_mflix',\n",
       "  'indexID': '63f729f1c7a22d523fbbd5eb',\n",
       "  'mappings': {'dynamic': True},\n",
       "  'name': 'default',\n",
       "  'status': 'STEADY',\n",
       "  'synonyms': []},\n",
       " {'collectionName': 'movies',\n",
       "  'database': 'sample_mflix',\n",
       "  'indexID': '63f72b595ecb28071122c228',\n",
       "  'mappings': {'dynamic': False,\n",
       "   'fields': {'plot': {'foldDiacritics': True,\n",
       "     'maxGrams': 15,\n",
       "     'minGrams': 2,\n",
       "     'tokenization': 'edgeGram',\n",
       "     'type': 'autocomplete'},\n",
       "    'title': {'foldDiacritics': True,\n",
       "     'maxGrams': 15,\n",
       "     'minGrams': 2,\n",
       "     'tokenization': 'edgeGram',\n",
       "     'type': 'autocomplete'}}},\n",
       "  'name': 'autocompelete1',\n",
       "  'status': 'STEADY',\n",
       "  'synonyms': []}]"
      ]
     },
     "execution_count": 10,
     "metadata": {},
     "output_type": "execute_result"
    }
   ],
   "source": [
    "m.get_indexes(\"sample_mflix\", \"movies\")"
   ]
  },
  {
   "cell_type": "code",
   "execution_count": 24,
   "metadata": {},
   "outputs": [
    {
     "data": {
      "text/plain": [
       "200"
      ]
     },
     "execution_count": 24,
     "metadata": {},
     "output_type": "execute_result"
    }
   ],
   "source": [
    "docs = [ {\n",
    "  \"_id\": 0,\n",
    "  \"name\": \"Springfield High\",\n",
    "  \"mascot\": \"Pumas\",\n",
    "  \"teachers\": [{\n",
    "    \"first\": \"Jane\",\n",
    "    \"last\": \"Smith\",\n",
    "    \"classes\": [{\n",
    "      \"subject\": \"art of science\",\n",
    "      \"grade\": \"12th\"\n",
    "    },\n",
    "    {\n",
    "      \"subject\": \"applied science and practical science\",\n",
    "      \"grade\": \"9th\"\n",
    "    },\n",
    "    {\n",
    "      \"subject\": \"remedial math\",\n",
    "      \"grade\": \"12th\"\n",
    "    },\n",
    "    {\n",
    "      \"subject\": \"science\",\n",
    "      \"grade\": \"10th\"\n",
    "    }]\n",
    "  },\n",
    "  {\n",
    "    \"first\": \"Bob\",\n",
    "    \"last\": \"Green\",\n",
    "    \"classes\": [{\n",
    "      \"subject\": \"science of art\",\n",
    "      \"grade\": \"11th\"\n",
    "    },\n",
    "    {\n",
    "      \"subject\": \"art art art\",\n",
    "      \"grade\": \"10th\"\n",
    "    }]\n",
    "  }]\n",
    "}, \n",
    "{\n",
    "  \"_id\": 1,\n",
    "  \"name\": \"Evergreen High\",\n",
    "  \"mascot\": \"Jaguars\",\n",
    "  \"teachers\": [{\n",
    "    \"first\": \"Jane\",\n",
    "    \"last\": \"Earwhacker\",\n",
    "    \"classes\": [{\n",
    "      \"subject\": \"art\",\n",
    "      \"grade\": \"9th\"\n",
    "    },\n",
    "    {\n",
    "      \"subject\": \"science\",\n",
    "      \"grade\": \"12th\"\n",
    "    }]\n",
    "  },\n",
    "  {\n",
    "    \"first\": \"John\",\n",
    "    \"last\": \"Smith\",\n",
    "    \"classes\": [{\n",
    "      \"subject\": \"math\",\n",
    "      \"grade\": \"12th\"\n",
    "    },\n",
    "    {\n",
    "      \"subject\": \"art\",\n",
    "      \"grade\": \"10th\"\n",
    "    }]\n",
    "  }]\n",
    "},\n",
    "{\n",
    "  \"_id\": 2,\n",
    "  \"name\": \"Lincoln High\",\n",
    "  \"mascot\": \"Sharks\",\n",
    "  \"teachers\": [{\n",
    "    \"first\": \"Jane\",\n",
    "    \"last\": \"Smith\",\n",
    "    \"classes\": [{\n",
    "      \"subject\": \"science\",\n",
    "      \"grade\": \"9th\"\n",
    "    },\n",
    "    {\n",
    "      \"subject\": \"math\",\n",
    "      \"grade\": \"12th\"\n",
    "    }]\n",
    "  },\n",
    "  {\n",
    "    \"first\": \"John\",\n",
    "    \"last\": \"Redman\",\n",
    "    \"classes\": [{\n",
    "      \"subject\": \"art\",\n",
    "      \"grade\": \"12th\"\n",
    "    }]\n",
    "  }]\n",
    "}\n",
    "]\n",
    "\n",
    "\n",
    "coll = client[\"sample_mflix\"][\"embedded_object\"]\n",
    "coll.drop()\n",
    "coll.insert_many ( docs )\n",
    "\n",
    "indexDesc={\n",
    "  \"name\": \"default\",\n",
    "  \"collectionName\" : \"embedded_object\",\n",
    "  \"database\" : \"sample_mflix\",\n",
    "  \"mappings\": {\n",
    "    \"fields\": {\n",
    "      \"teachers\": {\n",
    "        \"type\": \"embeddedDocuments\",\n",
    "        \"dynamic\": True,\n",
    "        \"fields\": {\n",
    "          \"classes\": {\n",
    "            \"type\": \"embeddedDocuments\",\n",
    "            \"dynamic\": True\n",
    "          }\n",
    "        }\n",
    "      }\n",
    "    }\n",
    "  }\n",
    "}\n",
    "m.delete_index( indexDesc )\n",
    "m.create_index(indexDesc)\n"
   ]
  },
  {
   "cell_type": "code",
   "execution_count": 25,
   "metadata": {},
   "outputs": [
    {
     "data": {
      "text/plain": [
       "200"
      ]
     },
     "execution_count": 25,
     "metadata": {},
     "output_type": "execute_result"
    }
   ],
   "source": [
    "indexDesc={\n",
    "  \"name\": \"facetindex\",\n",
    "  \"collectionName\" : \"movies\",\n",
    "  \"database\" : \"sample_mflix\",\n",
    "  \"mappings\": {\n",
    "    \"dynamic\": False,\n",
    "    \"fields\": {\n",
    "      \"genres\": {\n",
    "        \"type\": \"stringFacet\"\n",
    "      },\n",
    "      \"year\": {\n",
    "        \"type\": \"numberFacet\"\n",
    "      },\n",
    "      \"released\": {\n",
    "        \"type\": \"date\"\n",
    "      }\n",
    "    }\n",
    "  }\n",
    "}\n",
    "m.create_index(indexDesc)"
   ]
  },
  {
   "cell_type": "code",
   "execution_count": 28,
   "metadata": {},
   "outputs": [
    {
     "data": {
      "text/plain": [
       "<pymongo.results.InsertManyResult at 0x107aae500>"
      ]
     },
     "execution_count": 28,
     "metadata": {},
     "output_type": "execute_result"
    }
   ],
   "source": [
    "docs= [\n",
    "    { \"item\" : 1 , \"tags\" : [ {\"k\" : \"Name\", \"v\" : \"SomeName\"}, { \"k\": \"Owner\" , \"v\" : \"SomeOwner\" }] } ,\n",
    "    { \"item\" : 2 , \"tags\" : [ {\"k\" : \"Name2\", \"v\" : \"SomeName\"}, { \"k\": \"Owner2\" , \"v\" : \"SomeOwner\" }] } \n",
    "]\n",
    "\n",
    "\n",
    "coll = client[\"sample_mflix\"][\"tag_example\"]\n",
    "coll.drop()\n",
    "coll.insert_many ( docs )"
   ]
  },
  {
   "cell_type": "code",
   "execution_count": null,
   "metadata": {},
   "outputs": [],
   "source": [
    "indexDesc={\n",
    "  \"name\": \"autocompelete1\",\n",
    "  \"collectionName\" : \"tag_example\",\n",
    "  \"database\" : \"sample_mflix\",\n",
    "  \"mappings\": {\n",
    "    \"dynamic\": False,\n",
    "    \"fields\": {\n",
    "      \"tags.k\": {\n",
    "        \"type\": \"autocomplete\",\n",
    "        \"tokenization\": \"edgeGram\",\n",
    "        \"foldDiacritics\": True,\n",
    "        \"minGrams\": 2,\n",
    "        \"maxGrams\": 15\n",
    "      },\n",
    "      \"tags.v\": {\n",
    "        \"type\": \"autocomplete\",\n",
    "        \"tokenization\": \"edgeGram\",\n",
    "        \"foldDiacritics\": True,\n",
    "        \"minGrams\": 2,\n",
    "        \"maxGrams\": 15\n",
    "      }\n",
    "    }\n",
    "  }\n",
    "}\n",
    "\n",
    "m.delete_index( indexDesc )\n",
    "m.create_index(indexDesc)"
   ]
  }
 ],
 "metadata": {
  "kernelspec": {
   "display_name": "venv",
   "language": "python",
   "name": "python3"
  },
  "language_info": {
   "codemirror_mode": {
    "name": "ipython",
    "version": 3
   },
   "file_extension": ".py",
   "mimetype": "text/x-python",
   "name": "python",
   "nbconvert_exporter": "python",
   "pygments_lexer": "ipython3",
   "version": "3.10.10"
  },
  "orig_nbformat": 4,
  "vscode": {
   "interpreter": {
    "hash": "09ff121029839bd453b7e6f6df875d861f89d32f95568ae41221ebd4330d0c36"
   }
  }
 },
 "nbformat": 4,
 "nbformat_minor": 2
}
