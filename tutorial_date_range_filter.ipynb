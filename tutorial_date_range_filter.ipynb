{
 "cells": [
  {
   "cell_type": "code",
   "execution_count": 3,
   "metadata": {},
   "outputs": [],
   "source": [
    "\n",
    "from lib.search_index_manager import SearchIndexManager\n",
    "import os \n",
    "\n",
    "import pymongo, datetime\n",
    "\n",
    "\n",
    "from lib.common import MONGODB_URI\n",
    "from lib.common import PROJECT_ID\n",
    "from lib.common import PRIVATE_KEY\n",
    "from lib.common import PUBLIC_KEY\n",
    "from lib.common import CLUSTER_NAME\n",
    "\n",
    "client = pymongo.MongoClient( MONGODB_URI )"
   ]
  },
  {
   "cell_type": "code",
   "execution_count": 8,
   "metadata": {},
   "outputs": [],
   "source": [
    "pipeline = [ \n",
    "    {\n",
    "    \"$search\": {\n",
    "       \"compound\": {\n",
    "         \"must\": [{\n",
    "           \"range\": {\n",
    "             \"path\": \"released\",\n",
    "             \"gt\": datetime.datetime.strptime(\"2015-01-01T00:00:00.000Z\", \"%Y-%m-%dT%H:%M:%S.000Z\"),\n",
    "             \"lt\": datetime.datetime.strptime(\"2015-12-31T00:00:00.000Z\", \"%Y-%m-%dT%H:%M:%S.000Z\")\n",
    "           }\n",
    "         }],\n",
    "         \"should\": [{\n",
    "           \"near\": {\n",
    "             \"path\": \"released\",\n",
    "             \"origin\": datetime.datetime.strptime(\"2015-07-01T00:00:00.000Z\", \"%Y-%m-%dT%H:%M:%S.000Z\"),\n",
    "             \"pivot\": 2629800000\n",
    "           }\n",
    "         }]\n",
    "       }\n",
    "      }\n",
    "    },\n",
    "    {\n",
    "     \"$limit\": 6\n",
    "    },\n",
    "    {\n",
    "     \"$project\": {\n",
    "       \"_id\": 0,\n",
    "       \"title\": 1,\n",
    "       \"released\": 1,\n",
    "       \"genres\": 1,\n",
    "       \"score\": { \"$meta\": \"searchScore\" }\n",
    "      }\n",
    "    }\n",
    "]\n",
    "\n",
    "# run pipeline\n",
    "result = client['sample_mflix']['movies'].aggregate(pipeline)\n",
    "# print results\n",
    "for i in result:\n",
    "    print(i)\n"
   ]
  }
 ],
 "metadata": {
  "kernelspec": {
   "display_name": "venv",
   "language": "python",
   "name": "python3"
  },
  "language_info": {
   "codemirror_mode": {
    "name": "ipython",
    "version": 3
   },
   "file_extension": ".py",
   "mimetype": "text/x-python",
   "name": "python",
   "nbconvert_exporter": "python",
   "pygments_lexer": "ipython3",
   "version": "3.10.10"
  },
  "orig_nbformat": 4,
  "vscode": {
   "interpreter": {
    "hash": "09ff121029839bd453b7e6f6df875d861f89d32f95568ae41221ebd4330d0c36"
   }
  }
 },
 "nbformat": 4,
 "nbformat_minor": 2
}
